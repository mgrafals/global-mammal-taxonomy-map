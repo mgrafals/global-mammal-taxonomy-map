{
  "nbformat": 4,
  "nbformat_minor": 0,
  "metadata": {
    "colab": {
      "provenance": []
    },
    "kernelspec": {
      "name": "python3",
      "display_name": "Python 3"
    },
    "language_info": {
      "name": "python"
    }
  },
  "cells": [
    {
      "cell_type": "code",
      "execution_count": 3,
      "metadata": {
        "id": "6QIPqACGSiAH"
      },
      "outputs": [],
      "source": [
        "#Imports\n",
        "import zipfile\n",
        "import os\n",
        "import pandas as pd\n"
      ]
    },
    {
      "cell_type": "code",
      "source": [
        "# Unzip the dataset\n",
        "def unzip_csv_files(zip_path, extract_to):\n",
        "    if not os.path.exists(extract_to):\n",
        "        os.makedirs(extract_to)\n",
        "\n",
        "    with zipfile.ZipFile(zip_path, 'r') as zip_ref:\n",
        "        csv_files = [file for file in zip_ref.namelist() if file.endswith('.csv')]\n",
        "\n",
        "        for file in csv_files:\n",
        "            zip_ref.extract(file, extract_to)\n",
        "\n",
        "zip_file_path = \"/content/drive/MyDrive/mammal_species/mammal_species.zip\"\n",
        "output_directory = \"/content/mammal_species\"\n",
        "\n",
        "unzip_csv_files(zip_file_path, output_directory)"
      ],
      "metadata": {
        "id": "43j5wKMKTtXC"
      },
      "execution_count": null,
      "outputs": []
    },
    {
      "cell_type": "code",
      "source": [
        "# Main csv file with all the species\n",
        "df_main = pd.read_csv('/content/mammal_species/MDD_v1.10_6615species.csv')\n",
        "df_main.head()"
      ],
      "metadata": {
        "colab": {
          "base_uri": "https://localhost:8080/",
          "height": 377
        },
        "id": "7j7-S0cOTYdB",
        "outputId": "fea37d8c-c16d-45af-c4ba-2520f80972b2"
      },
      "execution_count": 4,
      "outputs": [
        {
          "output_type": "execute_result",
          "data": {
            "text/plain": [
              "                    sciName       id  phylosort  \\\n",
              "0  Ornithorhynchus_anatinus  1000001          1   \n",
              "1    Tachyglossus_aculeatus  1000002          1   \n",
              "2   Zaglossus_attenboroughi  1000003          1   \n",
              "3         Zaglossus_bartoni  1000004          1   \n",
              "4        Zaglossus_bruijnii  1000005          1   \n",
              "\n",
              "                       mainCommonName  \\\n",
              "0                            Platypus   \n",
              "1                Short-beaked Echidna   \n",
              "2  Attenborough's Long-beaked Echidna   \n",
              "3         Eastern Long-beaked Echidna   \n",
              "4         Western Long-beaked Echidna   \n",
              "\n",
              "                                    otherCommonNames    subclass  \\\n",
              "0                               Duck-billed Platypus  Yinotheria   \n",
              "1  Australian Echidna|Short-nosed Echidna|Spiny A...  Yinotheria   \n",
              "2  Attenborough's Echidna|Attenborough's Long-nos...  Yinotheria   \n",
              "3                       Barton's Long-beaked Echidna  Yinotheria   \n",
              "4  Long-beaked Echidna|Long-nosed Echidna|Long-no...  Yinotheria   \n",
              "\n",
              "         infraclass magnorder superorder        order  ...  \\\n",
              "0  Australosphenida       NaN        NaN  MONOTREMATA  ...   \n",
              "1  Australosphenida       NaN        NaN  MONOTREMATA  ...   \n",
              "2  Australosphenida       NaN        NaN  MONOTREMATA  ...   \n",
              "3  Australosphenida       NaN        NaN  MONOTREMATA  ...   \n",
              "4  Australosphenida       NaN        NaN  MONOTREMATA  ...   \n",
              "\n",
              "    biogeographicRealm iucnStatus extinct domestic flagged  \\\n",
              "0  Australasia/Oceania         NT       0        0       0   \n",
              "1  Australasia/Oceania         LC       0        0       0   \n",
              "2  Australasia/Oceania         CR       0        0       0   \n",
              "3  Australasia/Oceania         VU       0        0       0   \n",
              "4  Australasia/Oceania         CR       0        0       0   \n",
              "\n",
              "                CMW_sciName diffSinceCMW MSW3_matchtype  \\\n",
              "0  Ornithorhynchus_anatinus            0  sciname match   \n",
              "1    Tachyglossus_aculeatus            0  sciname match   \n",
              "2   Zaglossus_attenboroughi            0  sciname match   \n",
              "3         Zaglossus_bartoni            0  sciname match   \n",
              "4        Zaglossus_bruijnii            0  sciname match   \n",
              "\n",
              "               MSW3_sciName diffSinceMSW3  \n",
              "0  Ornithorhynchus_anatinus             0  \n",
              "1    Tachyglossus_aculeatus             0  \n",
              "2   Zaglossus_attenboroughi             0  \n",
              "3         Zaglossus_bartoni             0  \n",
              "4         Zaglossus_bruijni             0  \n",
              "\n",
              "[5 rows x 49 columns]"
            ],
            "text/html": [
              "\n",
              "  <div id=\"df-f03fdf37-e522-4a56-8e29-7cb4a1f47724\" class=\"colab-df-container\">\n",
              "    <div>\n",
              "<style scoped>\n",
              "    .dataframe tbody tr th:only-of-type {\n",
              "        vertical-align: middle;\n",
              "    }\n",
              "\n",
              "    .dataframe tbody tr th {\n",
              "        vertical-align: top;\n",
              "    }\n",
              "\n",
              "    .dataframe thead th {\n",
              "        text-align: right;\n",
              "    }\n",
              "</style>\n",
              "<table border=\"1\" class=\"dataframe\">\n",
              "  <thead>\n",
              "    <tr style=\"text-align: right;\">\n",
              "      <th></th>\n",
              "      <th>sciName</th>\n",
              "      <th>id</th>\n",
              "      <th>phylosort</th>\n",
              "      <th>mainCommonName</th>\n",
              "      <th>otherCommonNames</th>\n",
              "      <th>subclass</th>\n",
              "      <th>infraclass</th>\n",
              "      <th>magnorder</th>\n",
              "      <th>superorder</th>\n",
              "      <th>order</th>\n",
              "      <th>...</th>\n",
              "      <th>biogeographicRealm</th>\n",
              "      <th>iucnStatus</th>\n",
              "      <th>extinct</th>\n",
              "      <th>domestic</th>\n",
              "      <th>flagged</th>\n",
              "      <th>CMW_sciName</th>\n",
              "      <th>diffSinceCMW</th>\n",
              "      <th>MSW3_matchtype</th>\n",
              "      <th>MSW3_sciName</th>\n",
              "      <th>diffSinceMSW3</th>\n",
              "    </tr>\n",
              "  </thead>\n",
              "  <tbody>\n",
              "    <tr>\n",
              "      <th>0</th>\n",
              "      <td>Ornithorhynchus_anatinus</td>\n",
              "      <td>1000001</td>\n",
              "      <td>1</td>\n",
              "      <td>Platypus</td>\n",
              "      <td>Duck-billed Platypus</td>\n",
              "      <td>Yinotheria</td>\n",
              "      <td>Australosphenida</td>\n",
              "      <td>NaN</td>\n",
              "      <td>NaN</td>\n",
              "      <td>MONOTREMATA</td>\n",
              "      <td>...</td>\n",
              "      <td>Australasia/Oceania</td>\n",
              "      <td>NT</td>\n",
              "      <td>0</td>\n",
              "      <td>0</td>\n",
              "      <td>0</td>\n",
              "      <td>Ornithorhynchus_anatinus</td>\n",
              "      <td>0</td>\n",
              "      <td>sciname match</td>\n",
              "      <td>Ornithorhynchus_anatinus</td>\n",
              "      <td>0</td>\n",
              "    </tr>\n",
              "    <tr>\n",
              "      <th>1</th>\n",
              "      <td>Tachyglossus_aculeatus</td>\n",
              "      <td>1000002</td>\n",
              "      <td>1</td>\n",
              "      <td>Short-beaked Echidna</td>\n",
              "      <td>Australian Echidna|Short-nosed Echidna|Spiny A...</td>\n",
              "      <td>Yinotheria</td>\n",
              "      <td>Australosphenida</td>\n",
              "      <td>NaN</td>\n",
              "      <td>NaN</td>\n",
              "      <td>MONOTREMATA</td>\n",
              "      <td>...</td>\n",
              "      <td>Australasia/Oceania</td>\n",
              "      <td>LC</td>\n",
              "      <td>0</td>\n",
              "      <td>0</td>\n",
              "      <td>0</td>\n",
              "      <td>Tachyglossus_aculeatus</td>\n",
              "      <td>0</td>\n",
              "      <td>sciname match</td>\n",
              "      <td>Tachyglossus_aculeatus</td>\n",
              "      <td>0</td>\n",
              "    </tr>\n",
              "    <tr>\n",
              "      <th>2</th>\n",
              "      <td>Zaglossus_attenboroughi</td>\n",
              "      <td>1000003</td>\n",
              "      <td>1</td>\n",
              "      <td>Attenborough's Long-beaked Echidna</td>\n",
              "      <td>Attenborough's Echidna|Attenborough's Long-nos...</td>\n",
              "      <td>Yinotheria</td>\n",
              "      <td>Australosphenida</td>\n",
              "      <td>NaN</td>\n",
              "      <td>NaN</td>\n",
              "      <td>MONOTREMATA</td>\n",
              "      <td>...</td>\n",
              "      <td>Australasia/Oceania</td>\n",
              "      <td>CR</td>\n",
              "      <td>0</td>\n",
              "      <td>0</td>\n",
              "      <td>0</td>\n",
              "      <td>Zaglossus_attenboroughi</td>\n",
              "      <td>0</td>\n",
              "      <td>sciname match</td>\n",
              "      <td>Zaglossus_attenboroughi</td>\n",
              "      <td>0</td>\n",
              "    </tr>\n",
              "    <tr>\n",
              "      <th>3</th>\n",
              "      <td>Zaglossus_bartoni</td>\n",
              "      <td>1000004</td>\n",
              "      <td>1</td>\n",
              "      <td>Eastern Long-beaked Echidna</td>\n",
              "      <td>Barton's Long-beaked Echidna</td>\n",
              "      <td>Yinotheria</td>\n",
              "      <td>Australosphenida</td>\n",
              "      <td>NaN</td>\n",
              "      <td>NaN</td>\n",
              "      <td>MONOTREMATA</td>\n",
              "      <td>...</td>\n",
              "      <td>Australasia/Oceania</td>\n",
              "      <td>VU</td>\n",
              "      <td>0</td>\n",
              "      <td>0</td>\n",
              "      <td>0</td>\n",
              "      <td>Zaglossus_bartoni</td>\n",
              "      <td>0</td>\n",
              "      <td>sciname match</td>\n",
              "      <td>Zaglossus_bartoni</td>\n",
              "      <td>0</td>\n",
              "    </tr>\n",
              "    <tr>\n",
              "      <th>4</th>\n",
              "      <td>Zaglossus_bruijnii</td>\n",
              "      <td>1000005</td>\n",
              "      <td>1</td>\n",
              "      <td>Western Long-beaked Echidna</td>\n",
              "      <td>Long-beaked Echidna|Long-nosed Echidna|Long-no...</td>\n",
              "      <td>Yinotheria</td>\n",
              "      <td>Australosphenida</td>\n",
              "      <td>NaN</td>\n",
              "      <td>NaN</td>\n",
              "      <td>MONOTREMATA</td>\n",
              "      <td>...</td>\n",
              "      <td>Australasia/Oceania</td>\n",
              "      <td>CR</td>\n",
              "      <td>0</td>\n",
              "      <td>0</td>\n",
              "      <td>0</td>\n",
              "      <td>Zaglossus_bruijnii</td>\n",
              "      <td>0</td>\n",
              "      <td>sciname match</td>\n",
              "      <td>Zaglossus_bruijni</td>\n",
              "      <td>0</td>\n",
              "    </tr>\n",
              "  </tbody>\n",
              "</table>\n",
              "<p>5 rows × 49 columns</p>\n",
              "</div>\n",
              "    <div class=\"colab-df-buttons\">\n",
              "\n",
              "  <div class=\"colab-df-container\">\n",
              "    <button class=\"colab-df-convert\" onclick=\"convertToInteractive('df-f03fdf37-e522-4a56-8e29-7cb4a1f47724')\"\n",
              "            title=\"Convert this dataframe to an interactive table.\"\n",
              "            style=\"display:none;\">\n",
              "\n",
              "  <svg xmlns=\"http://www.w3.org/2000/svg\" height=\"24px\" viewBox=\"0 -960 960 960\">\n",
              "    <path d=\"M120-120v-720h720v720H120Zm60-500h600v-160H180v160Zm220 220h160v-160H400v160Zm0 220h160v-160H400v160ZM180-400h160v-160H180v160Zm440 0h160v-160H620v160ZM180-180h160v-160H180v160Zm440 0h160v-160H620v160Z\"/>\n",
              "  </svg>\n",
              "    </button>\n",
              "\n",
              "  <style>\n",
              "    .colab-df-container {\n",
              "      display:flex;\n",
              "      gap: 12px;\n",
              "    }\n",
              "\n",
              "    .colab-df-convert {\n",
              "      background-color: #E8F0FE;\n",
              "      border: none;\n",
              "      border-radius: 50%;\n",
              "      cursor: pointer;\n",
              "      display: none;\n",
              "      fill: #1967D2;\n",
              "      height: 32px;\n",
              "      padding: 0 0 0 0;\n",
              "      width: 32px;\n",
              "    }\n",
              "\n",
              "    .colab-df-convert:hover {\n",
              "      background-color: #E2EBFA;\n",
              "      box-shadow: 0px 1px 2px rgba(60, 64, 67, 0.3), 0px 1px 3px 1px rgba(60, 64, 67, 0.15);\n",
              "      fill: #174EA6;\n",
              "    }\n",
              "\n",
              "    .colab-df-buttons div {\n",
              "      margin-bottom: 4px;\n",
              "    }\n",
              "\n",
              "    [theme=dark] .colab-df-convert {\n",
              "      background-color: #3B4455;\n",
              "      fill: #D2E3FC;\n",
              "    }\n",
              "\n",
              "    [theme=dark] .colab-df-convert:hover {\n",
              "      background-color: #434B5C;\n",
              "      box-shadow: 0px 1px 3px 1px rgba(0, 0, 0, 0.15);\n",
              "      filter: drop-shadow(0px 1px 2px rgba(0, 0, 0, 0.3));\n",
              "      fill: #FFFFFF;\n",
              "    }\n",
              "  </style>\n",
              "\n",
              "    <script>\n",
              "      const buttonEl =\n",
              "        document.querySelector('#df-f03fdf37-e522-4a56-8e29-7cb4a1f47724 button.colab-df-convert');\n",
              "      buttonEl.style.display =\n",
              "        google.colab.kernel.accessAllowed ? 'block' : 'none';\n",
              "\n",
              "      async function convertToInteractive(key) {\n",
              "        const element = document.querySelector('#df-f03fdf37-e522-4a56-8e29-7cb4a1f47724');\n",
              "        const dataTable =\n",
              "          await google.colab.kernel.invokeFunction('convertToInteractive',\n",
              "                                                    [key], {});\n",
              "        if (!dataTable) return;\n",
              "\n",
              "        const docLinkHtml = 'Like what you see? Visit the ' +\n",
              "          '<a target=\"_blank\" href=https://colab.research.google.com/notebooks/data_table.ipynb>data table notebook</a>'\n",
              "          + ' to learn more about interactive tables.';\n",
              "        element.innerHTML = '';\n",
              "        dataTable['output_type'] = 'display_data';\n",
              "        await google.colab.output.renderOutput(dataTable, element);\n",
              "        const docLink = document.createElement('div');\n",
              "        docLink.innerHTML = docLinkHtml;\n",
              "        element.appendChild(docLink);\n",
              "      }\n",
              "    </script>\n",
              "  </div>\n",
              "\n",
              "\n",
              "<div id=\"df-e3dc8ed9-7702-4c30-a361-bf3369a46e56\">\n",
              "  <button class=\"colab-df-quickchart\" onclick=\"quickchart('df-e3dc8ed9-7702-4c30-a361-bf3369a46e56')\"\n",
              "            title=\"Suggest charts\"\n",
              "            style=\"display:none;\">\n",
              "\n",
              "<svg xmlns=\"http://www.w3.org/2000/svg\" height=\"24px\"viewBox=\"0 0 24 24\"\n",
              "     width=\"24px\">\n",
              "    <g>\n",
              "        <path d=\"M19 3H5c-1.1 0-2 .9-2 2v14c0 1.1.9 2 2 2h14c1.1 0 2-.9 2-2V5c0-1.1-.9-2-2-2zM9 17H7v-7h2v7zm4 0h-2V7h2v10zm4 0h-2v-4h2v4z\"/>\n",
              "    </g>\n",
              "</svg>\n",
              "  </button>\n",
              "\n",
              "<style>\n",
              "  .colab-df-quickchart {\n",
              "      --bg-color: #E8F0FE;\n",
              "      --fill-color: #1967D2;\n",
              "      --hover-bg-color: #E2EBFA;\n",
              "      --hover-fill-color: #174EA6;\n",
              "      --disabled-fill-color: #AAA;\n",
              "      --disabled-bg-color: #DDD;\n",
              "  }\n",
              "\n",
              "  [theme=dark] .colab-df-quickchart {\n",
              "      --bg-color: #3B4455;\n",
              "      --fill-color: #D2E3FC;\n",
              "      --hover-bg-color: #434B5C;\n",
              "      --hover-fill-color: #FFFFFF;\n",
              "      --disabled-bg-color: #3B4455;\n",
              "      --disabled-fill-color: #666;\n",
              "  }\n",
              "\n",
              "  .colab-df-quickchart {\n",
              "    background-color: var(--bg-color);\n",
              "    border: none;\n",
              "    border-radius: 50%;\n",
              "    cursor: pointer;\n",
              "    display: none;\n",
              "    fill: var(--fill-color);\n",
              "    height: 32px;\n",
              "    padding: 0;\n",
              "    width: 32px;\n",
              "  }\n",
              "\n",
              "  .colab-df-quickchart:hover {\n",
              "    background-color: var(--hover-bg-color);\n",
              "    box-shadow: 0 1px 2px rgba(60, 64, 67, 0.3), 0 1px 3px 1px rgba(60, 64, 67, 0.15);\n",
              "    fill: var(--button-hover-fill-color);\n",
              "  }\n",
              "\n",
              "  .colab-df-quickchart-complete:disabled,\n",
              "  .colab-df-quickchart-complete:disabled:hover {\n",
              "    background-color: var(--disabled-bg-color);\n",
              "    fill: var(--disabled-fill-color);\n",
              "    box-shadow: none;\n",
              "  }\n",
              "\n",
              "  .colab-df-spinner {\n",
              "    border: 2px solid var(--fill-color);\n",
              "    border-color: transparent;\n",
              "    border-bottom-color: var(--fill-color);\n",
              "    animation:\n",
              "      spin 1s steps(1) infinite;\n",
              "  }\n",
              "\n",
              "  @keyframes spin {\n",
              "    0% {\n",
              "      border-color: transparent;\n",
              "      border-bottom-color: var(--fill-color);\n",
              "      border-left-color: var(--fill-color);\n",
              "    }\n",
              "    20% {\n",
              "      border-color: transparent;\n",
              "      border-left-color: var(--fill-color);\n",
              "      border-top-color: var(--fill-color);\n",
              "    }\n",
              "    30% {\n",
              "      border-color: transparent;\n",
              "      border-left-color: var(--fill-color);\n",
              "      border-top-color: var(--fill-color);\n",
              "      border-right-color: var(--fill-color);\n",
              "    }\n",
              "    40% {\n",
              "      border-color: transparent;\n",
              "      border-right-color: var(--fill-color);\n",
              "      border-top-color: var(--fill-color);\n",
              "    }\n",
              "    60% {\n",
              "      border-color: transparent;\n",
              "      border-right-color: var(--fill-color);\n",
              "    }\n",
              "    80% {\n",
              "      border-color: transparent;\n",
              "      border-right-color: var(--fill-color);\n",
              "      border-bottom-color: var(--fill-color);\n",
              "    }\n",
              "    90% {\n",
              "      border-color: transparent;\n",
              "      border-bottom-color: var(--fill-color);\n",
              "    }\n",
              "  }\n",
              "</style>\n",
              "\n",
              "  <script>\n",
              "    async function quickchart(key) {\n",
              "      const quickchartButtonEl =\n",
              "        document.querySelector('#' + key + ' button');\n",
              "      quickchartButtonEl.disabled = true;  // To prevent multiple clicks.\n",
              "      quickchartButtonEl.classList.add('colab-df-spinner');\n",
              "      try {\n",
              "        const charts = await google.colab.kernel.invokeFunction(\n",
              "            'suggestCharts', [key], {});\n",
              "      } catch (error) {\n",
              "        console.error('Error during call to suggestCharts:', error);\n",
              "      }\n",
              "      quickchartButtonEl.classList.remove('colab-df-spinner');\n",
              "      quickchartButtonEl.classList.add('colab-df-quickchart-complete');\n",
              "    }\n",
              "    (() => {\n",
              "      let quickchartButtonEl =\n",
              "        document.querySelector('#df-e3dc8ed9-7702-4c30-a361-bf3369a46e56 button');\n",
              "      quickchartButtonEl.style.display =\n",
              "        google.colab.kernel.accessAllowed ? 'block' : 'none';\n",
              "    })();\n",
              "  </script>\n",
              "</div>\n",
              "\n",
              "    </div>\n",
              "  </div>\n"
            ],
            "application/vnd.google.colaboratory.intrinsic+json": {
              "type": "dataframe",
              "variable_name": "df_main"
            }
          },
          "metadata": {},
          "execution_count": 4
        }
      ]
    },
    {
      "cell_type": "code",
      "source": [
        "df_main.shape"
      ],
      "metadata": {
        "colab": {
          "base_uri": "https://localhost:8080/"
        },
        "id": "372tV708T-Sv",
        "outputId": "f73113d0-49a0-4435-d8fb-620d235e3327"
      },
      "execution_count": 5,
      "outputs": [
        {
          "output_type": "execute_result",
          "data": {
            "text/plain": [
              "(6615, 49)"
            ]
          },
          "metadata": {},
          "execution_count": 5
        }
      ]
    },
    {
      "cell_type": "code",
      "source": [
        "df_main.columns"
      ],
      "metadata": {
        "colab": {
          "base_uri": "https://localhost:8080/"
        },
        "id": "GnABHZbmWqG4",
        "outputId": "b7e3a84a-5274-41f3-aaf9-b79bb98b98b8"
      },
      "execution_count": 10,
      "outputs": [
        {
          "output_type": "execute_result",
          "data": {
            "text/plain": [
              "Index(['sciName', 'id', 'phylosort', 'mainCommonName', 'otherCommonNames',\n",
              "       'subclass', 'infraclass', 'magnorder', 'superorder', 'order',\n",
              "       'suborder', 'infraorder', 'parvorder', 'superfamily', 'family',\n",
              "       'subfamily', 'tribe', 'genus', 'subgenus', 'specificEpithet',\n",
              "       'authoritySpeciesAuthor', 'authoritySpeciesYear',\n",
              "       'authorityParentheses', 'originalNameCombination',\n",
              "       'authoritySpeciesCitation', 'authoritySpeciesLink', 'holotypeVoucher',\n",
              "       'holotypeVoucherURIs', 'typeLocality', 'typeLocalityLatitude',\n",
              "       'typeLocalityLongitude', 'nominalNames', 'taxonomyNotes',\n",
              "       'taxonomyNotesCitation', 'distributionNotes',\n",
              "       'distributionNotesCitation', 'subregionDistribution',\n",
              "       'countryDistribution', 'continentDistribution', 'biogeographicRealm',\n",
              "       'iucnStatus', 'extinct', 'domestic', 'flagged', 'CMW_sciName',\n",
              "       'diffSinceCMW', 'MSW3_matchtype', 'MSW3_sciName', 'diffSinceMSW3'],\n",
              "      dtype='object')"
            ]
          },
          "metadata": {},
          "execution_count": 10
        }
      ]
    },
    {
      "cell_type": "code",
      "source": [
        "len(df_main['mainCommonName'].unique())"
      ],
      "metadata": {
        "colab": {
          "base_uri": "https://localhost:8080/"
        },
        "id": "-FyUtoQvUBIO",
        "outputId": "af270885-fb7a-467c-bb61-fd8fd0b96e4a"
      },
      "execution_count": 7,
      "outputs": [
        {
          "output_type": "execute_result",
          "data": {
            "text/plain": [
              "6615"
            ]
          },
          "metadata": {},
          "execution_count": 7
        }
      ]
    },
    {
      "cell_type": "code",
      "source": [
        "df_main['subclass'].unique()"
      ],
      "metadata": {
        "colab": {
          "base_uri": "https://localhost:8080/"
        },
        "id": "-6e3yQjdU59a",
        "outputId": "6d60df7b-5031-47df-f67b-3834957bfd36"
      },
      "execution_count": 9,
      "outputs": [
        {
          "output_type": "execute_result",
          "data": {
            "text/plain": [
              "array(['Yinotheria', 'Theria'], dtype=object)"
            ]
          },
          "metadata": {},
          "execution_count": 9
        }
      ]
    },
    {
      "cell_type": "code",
      "source": [
        "df_main['infraclass'].unique()"
      ],
      "metadata": {
        "colab": {
          "base_uri": "https://localhost:8080/"
        },
        "id": "_wQubzbpVFv6",
        "outputId": "bf73cdcf-e2e3-46ae-c548-14638224a68d"
      },
      "execution_count": 12,
      "outputs": [
        {
          "output_type": "execute_result",
          "data": {
            "text/plain": [
              "array(['Australosphenida', 'Marsupialia', 'Placentalia'], dtype=object)"
            ]
          },
          "metadata": {},
          "execution_count": 12
        }
      ]
    },
    {
      "cell_type": "code",
      "source": [
        "len(df_main['countryDistribution'].unique())"
      ],
      "metadata": {
        "colab": {
          "base_uri": "https://localhost:8080/"
        },
        "id": "u2jSxl8NYx7W",
        "outputId": "ae61ef4c-1c6f-4e63-e1a0-63546f458f80"
      },
      "execution_count": 15,
      "outputs": [
        {
          "output_type": "execute_result",
          "data": {
            "text/plain": [
              "2429"
            ]
          },
          "metadata": {},
          "execution_count": 15
        }
      ]
    },
    {
      "cell_type": "code",
      "source": [
        "df_main['order'].unique()"
      ],
      "metadata": {
        "colab": {
          "base_uri": "https://localhost:8080/"
        },
        "id": "dvLksgJja72Z",
        "outputId": "51fb06b1-fc6c-4a08-c1ce-a5ef3dc55688"
      },
      "execution_count": 16,
      "outputs": [
        {
          "output_type": "execute_result",
          "data": {
            "text/plain": [
              "array(['MONOTREMATA', 'PAUCITUBERCULATA', 'DIDELPHIMORPHIA',\n",
              "       'MICROBIOTHERIA', 'NOTORYCTEMORPHIA', 'DASYUROMORPHIA',\n",
              "       'PERAMELEMORPHIA', 'DIPROTODONTIA', 'CINGULATA', 'PILOSA',\n",
              "       'MACROSCELIDEA', 'AFROSORICIDA', 'TUBULIDENTATA', 'PROBOSCIDEA',\n",
              "       'HYRACOIDEA', 'SIRENIA', 'DERMOPTERA', 'SCANDENTIA', 'PRIMATES',\n",
              "       'LAGOMORPHA', 'RODENTIA', 'EULIPOTYPHLA', 'CHIROPTERA',\n",
              "       'PHOLIDOTA', 'CARNIVORA', 'PERISSODACTYLA', 'ARTIODACTYLA'],\n",
              "      dtype=object)"
            ]
          },
          "metadata": {},
          "execution_count": 16
        }
      ]
    },
    {
      "cell_type": "code",
      "source": [
        "len(df_main['order'].unique())"
      ],
      "metadata": {
        "colab": {
          "base_uri": "https://localhost:8080/"
        },
        "id": "VzC4iIQwbLim",
        "outputId": "ff2ee4e3-f7cd-4a25-fda0-f58b83cd62f2"
      },
      "execution_count": 17,
      "outputs": [
        {
          "output_type": "execute_result",
          "data": {
            "text/plain": [
              "27"
            ]
          },
          "metadata": {},
          "execution_count": 17
        }
      ]
    },
    {
      "cell_type": "code",
      "source": [
        "df_main['family'].unique()"
      ],
      "metadata": {
        "colab": {
          "base_uri": "https://localhost:8080/"
        },
        "id": "2XRDhjBVbPU2",
        "outputId": "8fca410e-de14-43a3-a16b-39243bf2f4f5"
      },
      "execution_count": 18,
      "outputs": [
        {
          "output_type": "execute_result",
          "data": {
            "text/plain": [
              "array(['ORNITHORHYNCHIDAE', 'TACHYGLOSSIDAE', 'CAENOLESTIDAE',\n",
              "       'DIDELPHIDAE', 'MICROBIOTHERIIDAE', 'NOTORYCTIDAE', 'DASYURIDAE',\n",
              "       'MYRMECOBIIDAE', 'THYLACINIDAE', 'CHAEROPODIDAE', 'PERAMELIDAE',\n",
              "       'THYLACOMYIDAE', 'HYPSIPRYMNODONTIDAE', 'MACROPODIDAE',\n",
              "       'POTOROIDAE', 'ACROBATIDAE', 'PETAURIDAE', 'PSEUDOCHEIRIDAE',\n",
              "       'TARSIPEDIDAE', 'BURRAMYIDAE', 'PHALANGERIDAE', 'PHASCOLARCTIDAE',\n",
              "       'VOMBATIDAE', 'CHLAMYPHORIDAE', 'DASYPODIDAE', 'BRADYPODIDAE',\n",
              "       'CHOLOEPODIDAE', 'CYCLOPEDIDAE', 'MYRMECOPHAGIDAE',\n",
              "       'MACROSCELIDIDAE', 'CHRYSOCHLORIDAE', 'POTAMOGALIDAE',\n",
              "       'TENRECIDAE', 'ORYCTEROPODIDAE', 'ELEPHANTIDAE', 'PROCAVIIDAE',\n",
              "       'DUGONGIDAE', 'TRICHECHIDAE', 'CYNOCEPHALIDAE', 'PTILOCERCIDAE',\n",
              "       'TUPAIIDAE', 'CERCOPITHECIDAE', 'HOMINIDAE', 'HYLOBATIDAE',\n",
              "       'AOTIDAE', 'ATELIDAE', 'CALLITRICHIDAE', 'CEBIDAE', 'PITHECIIDAE',\n",
              "       'TARSIIDAE', 'DAUBENTONIIDAE', 'CHEIROGALEIDAE',\n",
              "       'ARCHAEOLEMURIDAE', 'INDRIIDAE', 'LEMURIDAE', 'LEPILEMURIDAE',\n",
              "       'MEGALADAPIDAE', 'PALAEOPROPITHECIDAE', 'GALAGIDAE', 'LORISIDAE',\n",
              "       'LEPORIDAE', 'OCHOTONIDAE', 'PROLAGIDAE', 'CTENODACTYLIDAE',\n",
              "       'DIATOMYIDAE', 'CAVIIDAE', 'CUNICULIDAE', 'DASYPROCTIDAE',\n",
              "       'CHINCHILLIDAE', 'DINOMYIDAE', 'ERETHIZONTIDAE', 'BATHYERGIDAE',\n",
              "       'HETEROCEPHALIDAE', 'HYSTRICIDAE', 'PETROMURIDAE', 'THRYONOMYIDAE',\n",
              "       'ABROCOMIDAE', 'CTENOMYIDAE', 'ECHIMYIDAE', 'OCTODONTIDAE',\n",
              "       'APLODONTIIDAE', 'GLIRIDAE', 'SCIURIDAE', 'ANOMALURIDAE',\n",
              "       'PEDETIDAE', 'ZENKERELLIDAE', 'CASTORIDAE', 'GEOMYIDAE',\n",
              "       'HETEROMYIDAE', 'DIPODIDAE', 'SMINTHIDAE', 'ZAPODIDAE',\n",
              "       'CALOMYSCIDAE', 'CRICETIDAE', 'MURIDAE', 'NESOMYIDAE',\n",
              "       'PLATACANTHOMYIDAE', 'SPALACIDAE', 'ERINACEIDAE', 'NESOPHONTIDAE',\n",
              "       'SOLENODONTIDAE', 'SORICIDAE', 'TALPIDAE', 'PTEROPODIDAE',\n",
              "       'CRASEONYCTERIDAE', 'HIPPOSIDERIDAE', 'MEGADERMATIDAE',\n",
              "       'RHINOLOPHIDAE', 'RHINONYCTERIDAE', 'RHINOPOMATIDAE',\n",
              "       'EMBALLONURIDAE', 'MYZOPODIDAE', 'NYCTERIDAE', 'FURIPTERIDAE',\n",
              "       'MORMOOPIDAE', 'MYSTACINIDAE', 'NOCTILIONIDAE', 'PHYLLOSTOMIDAE',\n",
              "       'THYROPTERIDAE', 'CISTUGIDAE', 'MINIOPTERIDAE', 'MOLOSSIDAE',\n",
              "       'NATALIDAE', 'VESPERTILIONIDAE', 'MANIDAE', 'AILURIDAE',\n",
              "       'MEPHITIDAE', 'MUSTELIDAE', 'PROCYONIDAE', 'ODOBENIDAE',\n",
              "       'OTARIIDAE', 'PHOCIDAE', 'URSIDAE', 'CANIDAE', 'FELIDAE',\n",
              "       'PRIONODONTIDAE', 'NANDINIIDAE', 'EUPLERIDAE', 'HERPESTIDAE',\n",
              "       'HYAENIDAE', 'VIVERRIDAE', 'RHINOCEROTIDAE', 'TAPIRIDAE',\n",
              "       'EQUIDAE', 'ANTILOCAPRIDAE', 'BOVIDAE', 'CERVIDAE', 'GIRAFFIDAE',\n",
              "       'MOSCHIDAE', 'TRAGULIDAE', 'SUIDAE', 'TAYASSUIDAE', 'CAMELIDAE',\n",
              "       'HIPPOPOTAMIDAE', 'BALAENIDAE', 'BALAENOPTERIDAE', 'CETOTHERIIDAE',\n",
              "       'DELPHINIDAE', 'MONODONTIDAE', 'PHOCOENIDAE', 'INIIDAE',\n",
              "       'PONTOPORIIDAE', 'LIPOTIDAE', 'KOGIIDAE', 'PHYSETERIDAE',\n",
              "       'PLATANISTIDAE', 'ZIPHIIDAE'], dtype=object)"
            ]
          },
          "metadata": {},
          "execution_count": 18
        }
      ]
    },
    {
      "cell_type": "code",
      "source": [
        "len(df_main['family'].unique())"
      ],
      "metadata": {
        "colab": {
          "base_uri": "https://localhost:8080/"
        },
        "id": "ZRMoIopEbWIZ",
        "outputId": "891ea612-fee6-46ed-a9a2-e602ab0d4a8d"
      },
      "execution_count": 19,
      "outputs": [
        {
          "output_type": "execute_result",
          "data": {
            "text/plain": [
              "167"
            ]
          },
          "metadata": {},
          "execution_count": 19
        }
      ]
    },
    {
      "cell_type": "code",
      "source": [
        "df_main['superorder'].unique()"
      ],
      "metadata": {
        "colab": {
          "base_uri": "https://localhost:8080/"
        },
        "id": "rgiUr00Gbc7P",
        "outputId": "304fe908-1601-4d29-a801-adb75ea3cebd"
      },
      "execution_count": 21,
      "outputs": [
        {
          "output_type": "execute_result",
          "data": {
            "text/plain": [
              "array([nan, 'Ameridelphia', 'Australidelphia', 'Xenarthra', 'Afrotheria',\n",
              "       'Euarchontoglires', 'Laurasiatheria'], dtype=object)"
            ]
          },
          "metadata": {},
          "execution_count": 21
        }
      ]
    },
    {
      "cell_type": "code",
      "source": [
        "df_main['genus'].unique()"
      ],
      "metadata": {
        "colab": {
          "base_uri": "https://localhost:8080/"
        },
        "id": "b60YwuTQbk-u",
        "outputId": "b5f674e5-b955-46c9-bd78-a80a575657c3"
      },
      "execution_count": 22,
      "outputs": [
        {
          "output_type": "execute_result",
          "data": {
            "text/plain": [
              "array(['Ornithorhynchus', 'Tachyglossus', 'Zaglossus', ..., 'Mesoplodon',\n",
              "       'Tasmacetus', 'Ziphius'], dtype=object)"
            ]
          },
          "metadata": {},
          "execution_count": 22
        }
      ]
    },
    {
      "cell_type": "code",
      "source": [
        "len(df_main['genus'].unique())"
      ],
      "metadata": {
        "colab": {
          "base_uri": "https://localhost:8080/"
        },
        "id": "vUd2Egf1e5xI",
        "outputId": "7ce9ce3a-8be0-4129-9955-4bbaf4c67fca"
      },
      "execution_count": 23,
      "outputs": [
        {
          "output_type": "execute_result",
          "data": {
            "text/plain": [
              "1347"
            ]
          },
          "metadata": {},
          "execution_count": 23
        }
      ]
    },
    {
      "cell_type": "code",
      "source": [
        "len(df_main['mainCommonName'])"
      ],
      "metadata": {
        "colab": {
          "base_uri": "https://localhost:8080/"
        },
        "id": "E7QDnAdOgJLR",
        "outputId": "8f3b51b3-8a48-41a4-87b4-579b73eec9a1"
      },
      "execution_count": 24,
      "outputs": [
        {
          "output_type": "execute_result",
          "data": {
            "text/plain": [
              "6615"
            ]
          },
          "metadata": {},
          "execution_count": 24
        }
      ]
    },
    {
      "cell_type": "markdown",
      "source": [
        "This is the tree: subclass (2 values) -> infraclass (3 values) -> order (27 values) -> family (167 values) -> genus (1347 values) -> mainCommonName (6615 values)"
      ],
      "metadata": {
        "id": "ylQvpK1Rgdlp"
      }
    }
  ]
}